{
 "cells": [
  {
   "attachments": {},
   "cell_type": "markdown",
   "metadata": {},
   "source": [
    "## Flujos de Control"
   ]
  },
  {
   "attachments": {},
   "cell_type": "markdown",
   "metadata": {},
   "source": [
    "1) Crear una variable que contenga un elemento del conjunto de números enteros y luego imprimir por pantalla si es mayor o menor a cero"
   ]
  },
  {
   "cell_type": "code",
   "execution_count": 125,
   "metadata": {},
   "outputs": [
    {
     "name": "stdout",
     "output_type": "stream",
     "text": [
      "a es mayor que cero\n"
     ]
    }
   ],
   "source": [
    "a = 5\n",
    "if a <= 0:\n",
    "    print(\"a es menor o igual que cero\")\n",
    "elif a == 0:\n",
    "    print(\"a es igual que cero\")\n",
    "else:\n",
    "    print(\"a es mayor que cero\")"
   ]
  },
  {
   "attachments": {},
   "cell_type": "markdown",
   "metadata": {},
   "source": [
    "2) Crear dos variables y un condicional que informe si son del mismo tipo de dato"
   ]
  },
  {
   "cell_type": "code",
   "execution_count": 126,
   "metadata": {},
   "outputs": [
    {
     "name": "stdout",
     "output_type": "stream",
     "text": [
      "Las dos varibles no tiene los mismo tipos de datos \n"
     ]
    }
   ],
   "source": [
    "a = 5\n",
    "b = \"5\"\n",
    "if type(a) == type(b):\n",
    "    print(\"Tanto a como b son el mismo tipo de datos \")\n",
    "else:\n",
    "    print(\"Las dos varibles no tiene los mismo tipos de datos \")"
   ]
  },
  {
   "attachments": {},
   "cell_type": "markdown",
   "metadata": {},
   "source": [
    "3) Para los valores enteros del 1 al 20, imprimir por pantalla si es par o impar"
   ]
  },
  {
   "cell_type": "code",
   "execution_count": 127,
   "metadata": {},
   "outputs": [
    {
     "name": "stdout",
     "output_type": "stream",
     "text": [
      "1 es impar\n",
      "2 es par\n",
      "3 es impar\n",
      "4 es par\n",
      "5 es impar\n",
      "6 es par\n",
      "7 es impar\n",
      "8 es par\n",
      "9 es impar\n",
      "10 es par\n",
      "11 es impar\n",
      "12 es par\n",
      "13 es impar\n",
      "14 es par\n",
      "15 es impar\n",
      "16 es par\n",
      "17 es impar\n",
      "18 es par\n",
      "19 es impar\n",
      "20 es par\n"
     ]
    }
   ],
   "source": [
    "for i in range(1,21):\n",
    "    if i % 2 == 0:\n",
    "        print(i, \"es par\")\n",
    "    else:\n",
    "        print(i, \"es impar\")"
   ]
  },
  {
   "attachments": {},
   "cell_type": "markdown",
   "metadata": {},
   "source": [
    "4) En un ciclo for mostrar para los valores entre 0 y 5 el resultado de elevarlo a la potencia igual a 3"
   ]
  },
  {
   "cell_type": "code",
   "execution_count": 128,
   "metadata": {},
   "outputs": [
    {
     "name": "stdout",
     "output_type": "stream",
     "text": [
      "0 ^3= 0\n",
      "1 ^3= 1\n",
      "2 ^3= 8\n",
      "3 ^3= 27\n",
      "4 ^3= 64\n",
      "5 ^3= 125\n"
     ]
    }
   ],
   "source": [
    "for i in range(0,6):\n",
    "    print(i,\"^3=\",i**3)\n"
   ]
  },
  {
   "attachments": {},
   "cell_type": "markdown",
   "metadata": {},
   "source": [
    "5) Crear una variable que contenga un número entero y realizar un ciclo for la misma cantidad de ciclos"
   ]
  },
  {
   "cell_type": "code",
   "execution_count": 129,
   "metadata": {},
   "outputs": [
    {
     "name": "stdout",
     "output_type": "stream",
     "text": [
      "14\n",
      "Fin del bucle\n"
     ]
    }
   ],
   "source": [
    "x = 15\n",
    "while True:\n",
    "    x -= 1\n",
    "    print(x)\n",
    "    if x == 14:\n",
    "        break\n",
    "print(\"Fin del bucle\")"
   ]
  },
  {
   "attachments": {},
   "cell_type": "markdown",
   "metadata": {},
   "source": [
    "6) Utilizar un ciclo while para realizar el factorial de un número guardado en una variable, sólo si la variable contiene un número entero mayor a 0"
   ]
  },
  {
   "cell_type": "code",
   "execution_count": 130,
   "metadata": {},
   "outputs": [
    {
     "name": "stdout",
     "output_type": "stream",
     "text": [
      "El factorial de 7! es 5040\n"
     ]
    }
   ],
   "source": [
    "num=7\n",
    "\n",
    "factorial=1\n",
    "n=1\n",
    "while(n<=num):\n",
    "    factorial = n*factorial\n",
    "    n=n+1\n",
    "if factorial>= 0:\n",
    "    print(f\"El factorial de {num}! es {factorial}\")\n",
    "elif factorial<0:\n",
    "    print(\"es menor o igual a 0\")"
   ]
  },
  {
   "attachments": {},
   "cell_type": "markdown",
   "metadata": {},
   "source": [
    "7) Crear un ciclo for dentro de un ciclo while"
   ]
  },
  {
   "cell_type": "code",
   "execution_count": 131,
   "metadata": {},
   "outputs": [
    {
     "name": "stdout",
     "output_type": "stream",
     "text": [
      "7\n",
      "6\n",
      "5\n",
      "4\n",
      "3\n",
      "2\n",
      "1\n",
      "Fin del bucle\n"
     ]
    }
   ],
   "source": [
    "# ciclo sin terminar\n",
    "x = 8\n",
    "while True:\n",
    "    x -= 1\n",
    "    print(x)\n",
    "    if x == 1:\n",
    "        break\n",
    "print(\"Fin del bucle\")\n",
    "\n"
   ]
  },
  {
   "attachments": {},
   "cell_type": "markdown",
   "metadata": {},
   "source": [
    "8) Crear un ciclo while dentro de un ciclo for"
   ]
  },
  {
   "cell_type": "code",
   "execution_count": 132,
   "metadata": {},
   "outputs": [
    {
     "name": "stdout",
     "output_type": "stream",
     "text": [
      "El primer dia de la semana es Lunes\n",
      "el siguiente es el Martes\n",
      "el siguiente es el Miércoles\n",
      "el siguiente es el Jueves\n",
      "el siguiente es el Viernes\n",
      "el siguiente es el Sabado\n",
      "el siguiente es el Domingo\n"
     ]
    }
   ],
   "source": [
    "dia = 0 \n",
    "n=7   \n",
    "semana = ['Lunes', 'Martes', 'Miércoles', 'Jueves', 'Viernes', 'Sabado', 'Domingo']\n",
    "\n",
    "for i in  range(1,2):\n",
    "   print(\"El primer dia de la semana es \"+ semana[dia])\n",
    "   dia +=1\n",
    "while dia < 7:\n",
    "   print( \"el siguiente es el \"+ semana[dia])\n",
    "   dia += 1"
   ]
  },
  {
   "attachments": {},
   "cell_type": "markdown",
   "metadata": {},
   "source": [
    "9) Imprimir los números primos existentes entre 0 y 30"
   ]
  },
  {
   "cell_type": "code",
   "execution_count": 133,
   "metadata": {},
   "outputs": [
    {
     "name": "stdout",
     "output_type": "stream",
     "text": [
      "0\n",
      "1\n",
      "2\n",
      "3\n",
      "5\n",
      "7\n",
      "11\n",
      "13\n",
      "17\n",
      "19\n",
      "23\n",
      "29\n"
     ]
    }
   ],
   "source": [
    "n = 0\n",
    "primo = True\n",
    "while (n < 30):\n",
    "    for i in range(2, n):\n",
    "        if (n % i == 0):\n",
    "            primo = False\n",
    "    if (primo):\n",
    "        print(n)\n",
    "    else:\n",
    "        primo = True\n",
    "    n += 1"
   ]
  },
  {
   "attachments": {},
   "cell_type": "markdown",
   "metadata": {},
   "source": [
    "10) ¿Se puede mejorar el proceso del punto 9? Utilizar las sentencias break y/ó continue para tal fin"
   ]
  },
  {
   "cell_type": "code",
   "execution_count": 134,
   "metadata": {},
   "outputs": [
    {
     "name": "stdout",
     "output_type": "stream",
     "text": [
      "0\n",
      "1\n",
      "2\n",
      "3\n",
      "5\n",
      "7\n",
      "11\n",
      "13\n",
      "17\n",
      "19\n",
      "23\n",
      "29\n"
     ]
    }
   ],
   "source": [
    "n = 0\n",
    "primo = True\n",
    "while (n < 30):\n",
    "    for i in range(2, n):\n",
    "        if (n % i == 0):\n",
    "            primo = False\n",
    "            break\n",
    "    if (primo):\n",
    "        print(n)\n",
    "    else:\n",
    "        primo = True\n",
    "    n += 1"
   ]
  },
  {
   "attachments": {},
   "cell_type": "markdown",
   "metadata": {},
   "source": [
    "11) En los puntos 9 y 10, se diseño un código que encuentra números primos y además se lo optimizó. ¿Es posible saber en qué medida se optimizó?"
   ]
  },
  {
   "cell_type": "code",
   "execution_count": 135,
   "metadata": {},
   "outputs": [
    {
     "name": "stdout",
     "output_type": "stream",
     "text": [
      "0\n",
      "1\n",
      "2\n",
      "3\n",
      "5\n",
      "7\n",
      "11\n",
      "13\n",
      "17\n",
      "19\n",
      "23\n",
      "29\n",
      "número de ciclos sin break 378\n"
     ]
    }
   ],
   "source": [
    "ciclos= 0\n",
    "n = 0\n",
    "primo = True\n",
    "while (n < 30):\n",
    "    for i in range(2, n):\n",
    "        ciclos += 1\n",
    "        if (n % i == 0):\n",
    "            primo = False\n",
    "    if (primo):\n",
    "        print(n)\n",
    "    else:\n",
    "        primo = True\n",
    "    n += 1\n",
    "sin_break= str(ciclos)\n",
    "print(\"número de ciclos sin break\", sin_break)\n",
    "\n",
    "\n"
   ]
  },
  {
   "cell_type": "code",
   "execution_count": 136,
   "metadata": {},
   "outputs": [
    {
     "name": "stdout",
     "output_type": "stream",
     "text": [
      "0\n",
      "1\n",
      "2\n",
      "3\n",
      "5\n",
      "7\n",
      "11\n",
      "13\n",
      "17\n",
      "19\n",
      "23\n",
      "29\n",
      "Número de ciclos con break 134\n"
     ]
    }
   ],
   "source": [
    "n = 0\n",
    "ciclos_con_break = 0\n",
    "numero_primo = True\n",
    "\n",
    "\n",
    "n = 0\n",
    "primo = True\n",
    "while (n < 30):\n",
    "    for i in range(2, n):\n",
    "        ciclos_con_break += 1\n",
    "        if (n % i == 0):\n",
    "            primo = False\n",
    "            break\n",
    "    if (primo):\n",
    "        print(n)\n",
    "    else:\n",
    "        primo = True\n",
    "    n += 1\n",
    "con_break= str(ciclos_con_break)\n",
    "print (\"Número de ciclos con break\",con_break)"
   ]
  },
  {
   "cell_type": "code",
   "execution_count": 137,
   "metadata": {},
   "outputs": [
    {
     "name": "stdout",
     "output_type": "stream",
     "text": [
      "En porcentaje se optimizo en ciclos 35 %\n",
      "lo que significo 244 menos ciclos utilizando break\n"
     ]
    }
   ],
   "source": [
    "print(\"En porcentaje se optimizo en ciclos\",str(int((ciclos_con_break/ciclos)*100)), \"%\")\n",
    "print(\"lo que significo\", str(ciclos - ciclos_con_break), \"menos ciclos utilizando break\")\n"
   ]
  },
  {
   "attachments": {},
   "cell_type": "markdown",
   "metadata": {},
   "source": [
    "12) Si la cantidad de números que se evalúa es mayor a treinta, esa optimización crece?"
   ]
  },
  {
   "cell_type": "code",
   "execution_count": 138,
   "metadata": {},
   "outputs": [
    {
     "name": "stdout",
     "output_type": "stream",
     "text": [
      "0\n",
      "1\n",
      "2\n",
      "3\n",
      "5\n",
      "7\n",
      "11\n",
      "13\n",
      "17\n",
      "19\n",
      "23\n",
      "29\n",
      "31\n",
      "37\n",
      "41\n",
      "43\n",
      "47\n",
      "53\n",
      "59\n",
      "número de ciclos sin break 1653\n"
     ]
    }
   ],
   "source": [
    "ciclos= 0\n",
    "n = 0\n",
    "primo = True\n",
    "while (n < 60):\n",
    "    for i in range(2, n):\n",
    "        ciclos += 1\n",
    "        if (n % i == 0):\n",
    "            primo = False\n",
    "    if (primo):\n",
    "        print(n)\n",
    "    else:\n",
    "        primo = True\n",
    "    n += 1\n",
    "sin_break= str(ciclos)\n",
    "print(\"número de ciclos sin break\", sin_break)\n"
   ]
  },
  {
   "cell_type": "code",
   "execution_count": 139,
   "metadata": {},
   "outputs": [
    {
     "name": "stdout",
     "output_type": "stream",
     "text": [
      "0\n",
      "1\n",
      "2\n",
      "3\n",
      "5\n",
      "7\n",
      "11\n",
      "13\n",
      "17\n",
      "19\n",
      "23\n",
      "29\n",
      "31\n",
      "37\n",
      "41\n",
      "43\n",
      "47\n",
      "53\n",
      "59\n",
      "Número de ciclos con break 470\n"
     ]
    }
   ],
   "source": [
    "n = 0\n",
    "ciclos_con_break = 0\n",
    "numero_primo = True\n",
    "\n",
    "\n",
    "n = 0\n",
    "primo = True\n",
    "\n",
    "while (n < 60):\n",
    "    for i in range(2, n):\n",
    "        ciclos_con_break += 1\n",
    "        if (n % i == 0):\n",
    "            primo = False\n",
    "            break\n",
    "    if (primo):\n",
    "        print(n)\n",
    "    else:\n",
    "        primo = True\n",
    "    n += 1\n",
    "con_break= str(ciclos_con_break)\n",
    "print (\"Número de ciclos con break\",con_break)"
   ]
  },
  {
   "cell_type": "code",
   "execution_count": 141,
   "metadata": {},
   "outputs": [
    {
     "name": "stdout",
     "output_type": "stream",
     "text": [
      "En porcentaje se optimizo en ciclos 28 %\n",
      "por lo que el porcentaje de optimización es menor\n"
     ]
    }
   ],
   "source": [
    "print(\"En porcentaje se optimizo en ciclos\",str(int((ciclos_con_break/ciclos)*100)), \"%\")\n",
    "print(\"por lo que el porcentaje de optimización es menor\")"
   ]
  },
  {
   "attachments": {},
   "cell_type": "markdown",
   "metadata": {},
   "source": [
    "13) Aplicando continue, armar un ciclo while que solo imprima los valores divisibles por 12, dentro del rango de números de 100 a 300"
   ]
  },
  {
   "cell_type": "code",
   "execution_count": 178,
   "metadata": {},
   "outputs": [
    {
     "name": "stdout",
     "output_type": "stream",
     "text": [
      "108\n",
      "120\n",
      "132\n",
      "144\n",
      "156\n",
      "168\n",
      "180\n",
      "192\n",
      "204\n",
      "216\n",
      "228\n",
      "240\n",
      "252\n",
      "264\n",
      "276\n",
      "288\n",
      "300\n"
     ]
    }
   ],
   "source": [
    "n = 99\n",
    "x = 12\n",
    "while (n <= 300): \n",
    "    n+=1\n",
    "    residuo = (n % x)      \n",
    "    if residuo !=0:\n",
    "        continue\n",
    "    print(n)"
   ]
  },
  {
   "attachments": {},
   "cell_type": "markdown",
   "metadata": {},
   "source": [
    "14) Utilizar la función **input()** que permite hacer ingresos por teclado, para encontrar números primos y dar la opción al usario de buscar el siguiente"
   ]
  },
  {
   "cell_type": "code",
   "execution_count": 188,
   "metadata": {},
   "outputs": [
    {
     "name": "stdout",
     "output_type": "stream",
     "text": [
      "1\n",
      "¿desea encontra el siguient # primo?\n"
     ]
    }
   ],
   "source": [
    "n = 1\n",
    "x= 1\n",
    "primo = True\n",
    "while (x==1):\n",
    "    for i in range(2, n):\n",
    "        if (n % i == 0):\n",
    "            primo = False\n",
    "            break\n",
    "    if (primo):\n",
    "        print(n)\n",
    "        print(\"¿desea encontra el siguient # primo?\")\n",
    "        if(input() != '1'):\n",
    "            print(\"se finalizo el proceso\")\n",
    "            break\n",
    "    else:\n",
    "        primo = True\n",
    "    n += 1"
   ]
  },
  {
   "attachments": {},
   "cell_type": "markdown",
   "metadata": {},
   "source": [
    "15) Crear un ciclo while que encuentre dentro del rango de 100 a 300 el primer número divisible por 3 y además múltiplo de 6"
   ]
  },
  {
   "cell_type": "code",
   "execution_count": 179,
   "metadata": {},
   "outputs": [
    {
     "name": "stdout",
     "output_type": "stream",
     "text": [
      "102\n"
     ]
    }
   ],
   "source": [
    "n= 100\n",
    "x= 6\n",
    "while(n<=300):\n",
    "    if (n % x == 0):\n",
    "        print(n)\n",
    "        break\n",
    "    n += 1"
   ]
  }
 ],
 "metadata": {
  "interpreter": {
   "hash": "c85384e4cb51c8b72350f3a8712cc8351fdc3955e32a27f9b60c6242ab125f01"
  },
  "kernelspec": {
   "display_name": "Python 3 (ipykernel)",
   "language": "python",
   "name": "python3"
  },
  "language_info": {
   "codemirror_mode": {
    "name": "ipython",
    "version": 3
   },
   "file_extension": ".py",
   "mimetype": "text/x-python",
   "name": "python",
   "nbconvert_exporter": "python",
   "pygments_lexer": "ipython3",
   "version": "3.11.4"
  }
 },
 "nbformat": 4,
 "nbformat_minor": 4
}
