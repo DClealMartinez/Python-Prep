{
 "cells": [
  {
   "attachments": {},
   "cell_type": "markdown",
   "metadata": {},
   "source": [
    "## Funciones"
   ]
  },
  {
   "attachments": {},
   "cell_type": "markdown",
   "metadata": {},
   "source": [
    "1) Crear una función que reciba un número como parámetro y devuelva True si es primo y False si no lo es"
   ]
  },
  {
   "cell_type": "code",
   "execution_count": 145,
   "metadata": {},
   "outputs": [],
   "source": [
    "\n",
    "def num_primo(numero):\n",
    "    primo=True\n",
    "    for i in range(2, numero):\n",
    "        if numero % i == 0:\n",
    "            primo = False\n",
    "            break\n",
    "    if (primo):\n",
    "        return primo"
   ]
  },
  {
   "cell_type": "code",
   "execution_count": 146,
   "metadata": {},
   "outputs": [
    {
     "data": {
      "text/plain": [
       "True"
      ]
     },
     "execution_count": 146,
     "metadata": {},
     "output_type": "execute_result"
    }
   ],
   "source": [
    "num_primo(2)"
   ]
  },
  {
   "attachments": {},
   "cell_type": "markdown",
   "metadata": {},
   "source": [
    "2) Utilizando la función del punto 1, realizar otra función que reciba de parámetro una lista de números y devuelva sólo aquellos que son primos en otra lista"
   ]
  },
  {
   "cell_type": "code",
   "execution_count": 147,
   "metadata": {},
   "outputs": [],
   "source": [
    "def ver_primo(lis):\n",
    "    lista_de_primos=[]\n",
    "    for j in lis:\n",
    "        if num_primo(int(j)):\n",
    "            lista_de_primos.append(int(j))\n",
    "    return sorted(lista_de_primos)"
   ]
  },
  {
   "cell_type": "code",
   "execution_count": 148,
   "metadata": {},
   "outputs": [
    {
     "data": {
      "text/plain": [
       "[1, 2, 3, 5, 13, 17]"
      ]
     },
     "execution_count": 148,
     "metadata": {},
     "output_type": "execute_result"
    }
   ],
   "source": [
    "lista_numeros = [1,3,4,5,6,21,17,13,2,25,27]\n",
    "lista_de_primos = ver_primo(lista_numeros)\n",
    "lista_de_primos"
   ]
  },
  {
   "attachments": {},
   "cell_type": "markdown",
   "metadata": {},
   "source": [
    "3) Crear una función que al recibir una lista de números, devuelva el que más se repite y cuántas veces lo hace. Si hay más de un \"más repetido\", que devuelva cualquiera"
   ]
  },
  {
   "cell_type": "code",
   "execution_count": 149,
   "metadata": {},
   "outputs": [],
   "source": [
    "def most_common_number(numbers):\n",
    "    num_count = {}\n",
    "    if len(numbers) == 0:\n",
    "        return None\n",
    "    for num in numbers:\n",
    "        if num in num_count:\n",
    "            num_count[num] += 1\n",
    "        else:\n",
    "            num_count[num] = 1\n",
    "    \n",
    "    most_common = max(num_count, key=num_count.get)\n",
    "    count = num_count[most_common]\n",
    "    \n",
    "    return count, most_common\n",
    "\n"
   ]
  },
  {
   "cell_type": "code",
   "execution_count": 150,
   "metadata": {},
   "outputs": [],
   "source": [
    "numeros_aleatorios = [1,1,5,6,8,10,22,5,6,4,11,9,5]\n"
   ]
  },
  {
   "cell_type": "code",
   "execution_count": 151,
   "metadata": {},
   "outputs": [
    {
     "data": {
      "text/plain": [
       "(3, 5)"
      ]
     },
     "execution_count": 151,
     "metadata": {},
     "output_type": "execute_result"
    }
   ],
   "source": [
    "most_common_number(numeros_aleatorios)"
   ]
  },
  {
   "attachments": {},
   "cell_type": "markdown",
   "metadata": {},
   "source": [
    "4) A la función del punto 3, agregar un parámetro más, que permita elegir si se requiere el menor o el mayor de los mas repetidos."
   ]
  },
  {
   "cell_type": "code",
   "execution_count": 152,
   "metadata": {},
   "outputs": [],
   "source": [
    "def most_common_number(numbers, mode=\"most\"):\n",
    "    num_count = {}\n",
    "    if len(numbers) == 0:\n",
    "        return None\n",
    "    for num in numbers:\n",
    "        if num in num_count:\n",
    "            num_count[num] += 1\n",
    "        else:\n",
    "            num_count[num] = 1\n",
    "    \n",
    "    sorted_numbers = sorted(num_count.keys(), key=lambda x: num_count[x], reverse=True)\n",
    "    \n",
    "    if mode == \"most\":\n",
    "        most_common = sorted_numbers[0]\n",
    "    elif mode == \"least\":\n",
    "        most_common = sorted_numbers[-1]\n",
    "    else:\n",
    "        print(\"El modo debe ser 'most' o 'least'.\")\n",
    "    \n",
    "    count = num_count[most_common]\n",
    "    \n",
    "    return most_common, count\n",
    "\n",
    "\n"
   ]
  },
  {
   "cell_type": "code",
   "execution_count": 153,
   "metadata": {},
   "outputs": [
    {
     "name": "stdout",
     "output_type": "stream",
     "text": [
      "El número más común es 5 y se repite 3 veces.\n",
      "El número menos común es 9 y se repite 1 veces.\n"
     ]
    }
   ],
   "source": [
    "numbers = [1,1,5,6,8,10,22,5,6,4,11,9,5]\n",
    "most_common, count = most_common_number(numbers, mode=\"most\")\n",
    "print(f\"El número más común es {most_common} y se repite {count} veces.\")\n",
    "\n",
    "least_common, count_least = most_common_number(numbers, mode=\"least\")\n",
    "print(f\"El número menos común es {least_common} y se repite {count_least} veces.\")"
   ]
  },
  {
   "attachments": {},
   "cell_type": "markdown",
   "metadata": {},
   "source": [
    "5) Crear una función que convierta entre grados Celsius, Farenheit y Kelvin<br>\n",
    "Fórmula 1\t: (°C × 9/5) + 32 = °F<br>\n",
    "Fórmula 2\t: °C + 273.15 = °K<br>\n",
    "Debe recibir 3 parámetros: el valor, la medida de orígen y la medida de destino\n"
   ]
  },
  {
   "cell_type": "code",
   "execution_count": 157,
   "metadata": {},
   "outputs": [],
   "source": [
    "def convert_temperature(value, from_unit, to_unit):\n",
    "    if from_unit == to_unit:\n",
    "        return value\n",
    "\n",
    "    if from_unit == \"Celsius\":\n",
    "        if to_unit == \"Celsius\":\n",
    "            return value\n",
    "        elif to_unit == \"Fahrenheit\":\n",
    "            return (value * 9/5) + 32\n",
    "        elif to_unit == \"Kelvin\":\n",
    "            return value + 273.15\n",
    "            \n",
    "    elif from_unit == \"Fahrenheit\":\n",
    "        if to_unit == \"Fahrenheit\":\n",
    "            return value\n",
    "        elif to_unit == \"Celsius\":\n",
    "            return (value - 32) * 5/9\n",
    "        elif to_unit == \"Kelvin\":\n",
    "            return (value + 459.67) * 5/9\n",
    "        \n",
    "    elif from_unit == \"Kelvin\":\n",
    "        if to_unit == \"Kelvin\":\n",
    "            return value\n",
    "        elif to_unit == \"Celsius\":\n",
    "            return value - 273.15\n",
    "        elif to_unit == \"Fahrenheit\":\n",
    "            return (value * 9/5) - 459.67\n",
    "    \n",
    "\n",
    "    else:\n",
    "        print(\"Valores invalidos de temperatura/ Nota: La primera con mayuscula de los valores de medida de origen y destino\")\n",
    " \n",
    "\n",
    "\n"
   ]
  },
  {
   "cell_type": "code",
   "execution_count": 155,
   "metadata": {},
   "outputs": [
    {
     "data": {
      "text/plain": [
       "86.0"
      ]
     },
     "execution_count": 155,
     "metadata": {},
     "output_type": "execute_result"
    }
   ],
   "source": [
    "convert_temperature(30, 'Celsius', 'Fahrenheit')"
   ]
  },
  {
   "attachments": {},
   "cell_type": "markdown",
   "metadata": {},
   "source": [
    "6) Iterando una lista con los tres valores posibles de temperatura que recibe la función del punto 5, hacer un print para cada combinación de los mismos:"
   ]
  },
  {
   "cell_type": "code",
   "execution_count": 160,
   "metadata": {},
   "outputs": [
    {
     "name": "stdout",
     "output_type": "stream",
     "text": [
      "30 grado Celsius a Celsius : 30\n",
      "30 grado Celsius a Kelvin : 303.15\n",
      "30 grado Celsius a Fahrenheit : 86.0\n",
      "30 grado Kelvin a Celsius : -243.14999999999998\n",
      "30 grado Kelvin a Kelvin : 30\n",
      "30 grado Kelvin a Fahrenheit : -405.67\n",
      "30 grado Fahrenheit a Celsius : -1.1111111111111112\n",
      "30 grado Fahrenheit a Kelvin : 272.0388888888889\n",
      "30 grado Fahrenheit a Fahrenheit : 30\n"
     ]
    }
   ],
   "source": [
    "valores_medida = ['Celsius', \"Kelvin\", \"Fahrenheit\"] \n",
    "for i in range(0, 3):\n",
    "    for elemento in range(0,3):\n",
    "        print('30 grado', valores_medida[i], 'a', valores_medida[elemento], ':', convert_temperature(30, valores_medida[i], valores_medida[elemento]))"
   ]
  },
  {
   "attachments": {},
   "cell_type": "markdown",
   "metadata": {},
   "source": [
    "7) Armar una función que devuelva el factorial de un número. Tener en cuenta que el usuario puede equivocarse y enviar de parámetro un número no entero o negativo"
   ]
  },
  {
   "cell_type": "code",
   "execution_count": 162,
   "metadata": {},
   "outputs": [],
   "source": [
    "def factorial(n):\n",
    "    if not isinstance(n, int) or n < 0:\n",
    "        return (\"El número debe ser un entero no negativo\")\n",
    "\n",
    "    if n == 0 or n == 1:\n",
    "        return 1\n",
    "\n",
    "    result = 1\n",
    "    for i in range(2, n + 1):\n",
    "        result *= i\n",
    "\n",
    "    return result\n",
    "\n",
    "\n"
   ]
  },
  {
   "cell_type": "code",
   "execution_count": 163,
   "metadata": {},
   "outputs": [
    {
     "name": "stdout",
     "output_type": "stream",
     "text": [
      "120\n",
      "El número debe ser un entero no negativo\n",
      "El número debe ser un entero no negativo\n",
      "El número debe ser un entero no negativo\n"
     ]
    }
   ],
   "source": [
    "print(factorial(5))\n",
    "print(factorial(-2))\n",
    "print(factorial(1.23))\n",
    "print(factorial('6'))"
   ]
  }
 ],
 "metadata": {
  "interpreter": {
   "hash": "c85384e4cb51c8b72350f3a8712cc8351fdc3955e32a27f9b60c6242ab125f01"
  },
  "kernelspec": {
   "display_name": "Python 3 (ipykernel)",
   "language": "python",
   "name": "python3"
  },
  "language_info": {
   "codemirror_mode": {
    "name": "ipython",
    "version": 3
   },
   "file_extension": ".py",
   "mimetype": "text/x-python",
   "name": "python",
   "nbconvert_exporter": "python",
   "pygments_lexer": "ipython3",
   "version": "3.11.4"
  }
 },
 "nbformat": 4,
 "nbformat_minor": 4
}
